{
 "cells": [
  {
   "cell_type": "code",
   "execution_count": 1,
   "metadata": {},
   "outputs": [
    {
     "name": "stdout",
     "output_type": "stream",
     "text": [
      "length of the password:___ 15\n",
      "Enter the strength of the password:\n",
      "1. Weak\n",
      "2.Medium\n",
      "3.Strong\n",
      "(enter the number or the word):___ 2\n",
      "The password generated is:_ \n",
      " JW9rgoqypOuePxj\n"
     ]
    }
   ],
   "source": [
    "def password():\n",
    "    import random\n",
    "    length = int(input(\"length of the password:___ \"))\n",
    "    selection = input(\"\"\"Enter the strength of the password:\n",
    "1. Weak\n",
    "2.Medium\n",
    "3.Strong\n",
    "(enter the number or the word):___ \"\"\") \n",
    "    lletters= list(\"abcdefghijklmnopqrstuvwxyz\")\n",
    "    uletters=list(str.upper(\"abcdefghijklmnopqrstuvwxyz\"))\n",
    "    nletters=list(\"0123456789\")\n",
    "    sletters= list(\"|/#?()[]{}+-*,:;'_!@%^.&-=$\") \n",
    "    if selection ==\"3\" or str.lower(selection[0]) ==\"s\":\n",
    "        password=\"\".join(random.sample(random.choices(lletters+uletters+sletters,k=length-4)+random.choices(lletters, k=1) + random.choices(uletters, k=1)+random.choices(sletters, k=1)+random.choices(nletters, k=1), length))\n",
    "    elif selection ==\"2\" or str.lower(selection[0]) ==\"m\":\n",
    "        password = \"\".join(random.sample(random.choices(lletters+uletters,k=length-3)+random.choices(lletters, k=1) + random.choices(uletters, k=1)+random.choices(nletters, k=1), length))\n",
    "    elif selection ==\"1\" or str.lower(selection[0]) ==\"w\":\n",
    "        password = \"\".join(random.sample(random.choices(lletters,k=length-1)+random.choices(uletters, k=1), length))\n",
    "    \n",
    "    print (\"The password generated is:_\", \"\\n\", password) \n",
    "    \n",
    "password()"
   ]
  }
 ],
 "metadata": {
  "kernelspec": {
   "display_name": "Python 3",
   "language": "python",
   "name": "python3"
  },
  "language_info": {
   "codemirror_mode": {
    "name": "ipython",
    "version": 3
   },
   "file_extension": ".py",
   "mimetype": "text/x-python",
   "name": "python",
   "nbconvert_exporter": "python",
   "pygments_lexer": "ipython3",
   "version": "3.7.6"
  }
 },
 "nbformat": 4,
 "nbformat_minor": 4
}
