{
 "cells": [
  {
   "cell_type": "code",
   "execution_count": 1,
   "metadata": {},
   "outputs": [
    {
     "name": "stdout",
     "output_type": "stream",
     "text": [
      "length of the password10\n",
      "Enter the strength of the password:_\n",
      "1. Weak\n",
      "2.Medium\n",
      "3.Strong\n",
      "(enter the number or the word)3\n",
      "\n",
      "\n",
      "The passwords generated are:_ \n",
      "\n",
      "BJ%trz6R'F\n",
      "@nppuq[:3S\n",
      "vRa!+[ss,9\n",
      "?|Po9|#Q#-\n",
      "+(kvo}k-B1\n",
      "Zq!Rq2UQ_(\n",
      "jh3L%;]Lut\n",
      "pVLbE2EE-C\n",
      "u#^--dUui2\n",
      "n)d1R,z/Jh\n"
     ]
    }
   ],
   "source": [
    "def passwords(n=1):\n",
    "    import random\n",
    "    length = int(input(\"length of the password:__\"))\n",
    "    selection = input(\"\"\"Enter the strength of the password:_\n",
    "1. Weak\n",
    "2.Medium\n",
    "3.Strong\n",
    "(enter the number or the word)\"\"\")\n",
    "    print(\"\\n\")\n",
    "    print (\"The passwords generated are:_\", \"\\n\")\n",
    "    def password():\n",
    "        lletters= list(\"abcdefghijklmnopqrstuvwxyz\")\n",
    "        uletters=list(str.upper(\"abcdefghijklmnopqrstuvwxyz\"))\n",
    "        nletters=list(\"0123456789\")\n",
    "        sletters= list(\"|/#?()[]{}+-*,:;'_!@%^.&-=$\") \n",
    "        if selection ==\"3\" or str.lower(selection[0]) ==\"s\":\n",
    "            password=\"\".join(random.sample(random.choices(lletters+uletters+sletters,k=length-4)+random.choices(lletters, k=1) + random.choices(uletters, k=1)+random.choices(sletters, k=1)+random.choices(nletters, k=1), length))\n",
    "        elif selection ==\"2\" or str.lower(selection[0]) ==\"m\":\n",
    "            password = \"\".join(random.sample(random.choices(lletters+uletters,k=length-3)+random.choices(lletters, k=1) + random.choices(uletters, k=1)+random.choices(nletters, k=1), length))\n",
    "        elif selection ==\"1\" or str.lower(selection[0]) ==\"w\":\n",
    "            password = \"\".join(random.sample(random.choices(lletters,k=length-1)+random.choices(uletters, k=1), length))\n",
    "        print(password)\n",
    "    \n",
    "    for i in range(n):\n",
    "        password() \n",
    "\n",
    "passwords(10)"
   ]
  }
 ],
 "metadata": {
  "kernelspec": {
   "display_name": "Python 3",
   "language": "python",
   "name": "python3"
  },
  "language_info": {
   "codemirror_mode": {
    "name": "ipython",
    "version": 3
   },
   "file_extension": ".py",
   "mimetype": "text/x-python",
   "name": "python",
   "nbconvert_exporter": "python",
   "pygments_lexer": "ipython3",
   "version": "3.7.6"
  }
 },
 "nbformat": 4,
 "nbformat_minor": 4
}
